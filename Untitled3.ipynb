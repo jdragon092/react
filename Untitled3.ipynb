{
  "nbformat": 4,
  "nbformat_minor": 0,
  "metadata": {
    "colab": {
      "provenance": [],
      "history_visible": true,
      "authorship_tag": "ABX9TyMdagjzkcwODAERhXxEH/fO",
      "include_colab_link": true
    },
    "kernelspec": {
      "name": "python3",
      "display_name": "Python 3"
    },
    "language_info": {
      "name": "python"
    }
  },
  "cells": [
    {
      "cell_type": "markdown",
      "metadata": {
        "id": "view-in-github",
        "colab_type": "text"
      },
      "source": [
        "<a href=\"https://colab.research.google.com/github/jdragon092/react/blob/main/Untitled3.ipynb\" target=\"_parent\"><img src=\"https://colab.research.google.com/assets/colab-badge.svg\" alt=\"Open In Colab\"/></a>"
      ]
    },
    {
      "cell_type": "code",
      "execution_count": 2,
      "metadata": {
        "id": "sJ8daWIqaQXA"
      },
      "outputs": [],
      "source": [
        "import openpyxl\n",
        "import random\n",
        "import string\n",
        "\n",
        "# 새로운 엑셀 워크북 생성\n",
        "wb = openpyxl.Workbook()\n",
        "\n",
        "# 시트 선택\n",
        "sheet = wb.active\n",
        "\n",
        "# 첫 번째 행에 컬럼 이름 추가\n",
        "sheet.append(['name', 'age', 'e-mail', 'login count', 'purchase count', 'total purchase amount'])\n",
        "\n",
        "# 100명의 데이터 생성\n",
        "for i in range(100):\n",
        "    # 이름 생성 (8자리 영문 소문자)\n",
        "    name = ''.join(random.choices(string.ascii_lowercase, k=8))\n",
        "    age = random.randint(20, 60)\n",
        "    # 이메일 주소 생성 (랜덤 이름 + 실제 도메인)\n",
        "    email_domain = random.choice(['gmail.com', 'naver.com', 'daum.net', 'yahoo.com'])\n",
        "    email = f\"{name}@{email_domain}\"\n",
        "    login_count = random.randint(1, 50)\n",
        "    purchase_count = random.randint(1, 20)\n",
        "    total_purchase_amount = random.randint(10000, 1000000)\n",
        "    data = [name, age, email, login_count, purchase_count, total_purchase_amount]\n",
        "    # 시트에 데이터 추가\n",
        "    sheet.append(data)\n",
        "    # print(name)\n",
        "\n",
        "# 파일 저장\n",
        "wb.save(\"customer_data.xlsx\")"
      ]
    }
  ]
}